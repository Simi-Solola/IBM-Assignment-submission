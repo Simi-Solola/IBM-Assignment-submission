{
 "cells": [
  {
   "cell_type": "markdown",
   "id": "1e048cf4-d1b4-439b-af48-446287351797",
   "metadata": {},
   "source": [
    "# My Jupyter Notebook on IBM Watson Studio"
   ]
  },
  {
   "cell_type": "markdown",
   "id": "3ee6c580-b7f6-47ed-bfda-9dc3b22f8e1c",
   "metadata": {},
   "source": [
    "__Olubusayo Simisola Solola__<br>\n",
    "I am currently a Chemistry student desiring to be a data scientist in the next 6 months"
   ]
  },
  {
   "cell_type": "markdown",
   "id": "f30cf471-cc85-4987-97ac-922cfec9ca2f",
   "metadata": {},
   "source": [
    "_I am interested in data science because I love to make data driven decisions and to communicate the same to people_"
   ]
  },
  {
   "cell_type": "markdown",
   "id": "313ac58b-75a4-4e7d-9d15-fa3650df4db9",
   "metadata": {
    "tags": []
   },
   "source": [
    "### The code in the cell below prints the sum of 2 and 4"
   ]
  },
  {
   "cell_type": "code",
   "execution_count": 3,
   "id": "a5630cf5-5845-44b0-a49b-8e881fab6de5",
   "metadata": {},
   "outputs": [
    {
     "name": "stdout",
     "output_type": "stream",
     "text": [
      "6\n"
     ]
    }
   ],
   "source": [
    "print(2 + 4)"
   ]
  },
  {
   "cell_type": "markdown",
   "id": "1fcc9a7f-d3d9-4f48-a472-a98c4ebe6a0c",
   "metadata": {},
   "source": [
    "Summary\n",
    "***\n",
    "- This code shows ways to use a markdown\n",
    "- It shows a code\n",
    "- It used the 'print' function\n",
    "~~Is there an error?.~~ No"
   ]
  }
 ],
 "metadata": {
  "kernelspec": {
   "display_name": "Python",
   "language": "python",
   "name": "conda-env-python-py"
  },
  "language_info": {
   "codemirror_mode": {
    "name": "ipython",
    "version": 3
   },
   "file_extension": ".py",
   "mimetype": "text/x-python",
   "name": "python",
   "nbconvert_exporter": "python",
   "pygments_lexer": "ipython3",
   "version": "3.7.12"
  }
 },
 "nbformat": 4,
 "nbformat_minor": 5
}
